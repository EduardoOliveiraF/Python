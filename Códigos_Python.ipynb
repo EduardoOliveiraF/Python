{
  "cells": [
    {
      "cell_type": "markdown",
      "metadata": {
        "id": "view-in-github",
        "colab_type": "text"
      },
      "source": [
        "<a href=\"https://colab.research.google.com/github/EduardoOliveiraF/Python/blob/main/C%C3%B3digos_Python.ipynb\" target=\"_parent\"><img src=\"https://colab.research.google.com/assets/colab-badge.svg\" alt=\"Open In Colab\"/></a>"
      ]
    },
    {
      "cell_type": "code",
      "execution_count": null,
      "metadata": {
        "id": "qsnLG1HiG1la"
      },
      "outputs": [],
      "source": [
        "#Calcular média\n",
        "n1 = float(input(\"Digite sua primeira nota: \").replace(',' , '.'))\n",
        "n2 = float(input(\"Digite sua segunda nota: \").replace(',' , '.'))\n",
        "n3 = float(input(\"Digite sua terceira nota: \").replace(',' , '.'))\n",
        "n4 = float(input(\"Digite sua quarta nota: \").replace(',' , '.'))\n",
        "\n",
        "media = (n1 + n2 + n3 + n4) / 4\n",
        "media = round(media, 2)\n",
        "\n",
        "print(\"\\n A média é: \", media),"
      ]
    },
    {
      "cell_type": "code",
      "execution_count": null,
      "metadata": {
        "id": "-wDl4ZPgRTd6"
      },
      "outputs": [],
      "source": [
        "#Area da circunferência\n",
        "pi = (3.1415)\n",
        "r = float(input(\"Digite o valor do raio: \"))\n",
        "circunferencia = (2 * pi * r)\n",
        "circunferencia = round(circunferencia, 2)\n",
        "area = (pi * (r ** 2))\n",
        "area = round(area, 2)\n",
        "print(\"\\n Cincurferência: \", circunferencia)\n",
        "print(\"\\n Área: \", area)"
      ]
    },
    {
      "cell_type": "code",
      "execution_count": null,
      "metadata": {
        "id": "Q9pEfKwTUzCg"
      },
      "outputs": [],
      "source": [
        "#somar\n",
        "n1 = float(input(\"Digite o primeiro número: \"))\n",
        "n2 = float(input(\"Digite o segundo número: \"))\n",
        "\n",
        "soma = n1 + n2\n",
        "\n",
        "print(\"a soma é: \" , soma)"
      ]
    },
    {
      "cell_type": "code",
      "execution_count": null,
      "metadata": {
        "id": "OoRb8ge5VhfF"
      },
      "outputs": [],
      "source": [
        "#dobro da área\n",
        "L = float(input(\"Digite o lado: \"))\n",
        "\n",
        "area = L ** 2\n",
        "darea = area * 2\n",
        "\n",
        "print(\"O dobro da área é: \" , darea)"
      ]
    },
    {
      "cell_type": "code",
      "execution_count": null,
      "metadata": {
        "id": "4sLrNB1VWK-c"
      },
      "outputs": [],
      "source": [
        "#temperatura\n",
        "F = float(input(\"Digite a temperatura em fahrenheit: \"))\n",
        "\n",
        "c = 5 * (F - 32) / 9\n",
        "\n",
        "print (\"A temperatura é: \" , c)"
      ]
    },
    {
      "cell_type": "code",
      "execution_count": null,
      "metadata": {
        "id": "wTSBO4rPZZxW"
      },
      "outputs": [],
      "source": [
        "#uso do int e float\n",
        "n1i = int(input(\"Digite o primeiro número inteiro: \"))\n",
        "n2i = int(input(\"Digite o segundo número inteiro: \"))\n",
        "n3r = float(input(\"Digite o número real: \"))\n",
        "\n",
        "r1 = (n1i * 2) * (n2i / 2)\n",
        "r2 = (n1i * 3) + n3r\n",
        "r3 = n3r ** 3\n",
        "\n",
        "print(r1)\n",
        "print(r2)\n",
        "print(r3)"
      ]
    },
    {
      "cell_type": "code",
      "execution_count": null,
      "metadata": {
        "id": "QnLOYQ0Shei8"
      },
      "outputs": [],
      "source": [
        "#Calculadora IMC\n",
        "altura = float(input(\"Digite sua altura: \"))\n",
        "peso = float(input(\"Digite seu peso: \"))\n",
        "\n",
        "imc = peso / (altura * altura)\n",
        "print(\"\\nseu IMC é: \" , imc)\n",
        "\n",
        "if imc < 18.5:\n",
        "  print(\"\\nClassificação: Abaixo do peso.\")\n",
        "elif imc < 25:\n",
        "  print(\"\\nClaassificação: Peso normal.\")\n",
        "elif imc < 30:\n",
        "  print(\"\\nClaassificação: Sobrepeso.\")\n",
        "elif imc < 35:\n",
        "  print(\"\\nClaassificação: Obesidade grau 1.\")\n",
        "elif imc < 40:\n",
        "  print(\"\\nClaassificação: Obesidade grau 2.\")\n",
        "else:\n",
        "  print(\"\\nClaassificação: Obesidade grau 3 (mórbida).\")"
      ]
    },
    {
      "cell_type": "code",
      "execution_count": null,
      "metadata": {
        "id": "vLJlPPDL3Se5"
      },
      "outputs": [],
      "source": [
        "#Conversor de moeda\n",
        "print(\"Moedas disponíveis: Dolar, Euro e Libra esterlina\")\n",
        "moeda = input(\"\\nPara qual moeda você quer converter? \").lower()\n",
        "real = float(input(\"Digite o valor em reais que deseja converter: R$ \"))\n",
        "\n",
        "if(moeda == \"dolar\"):\n",
        "  conversao = real * 0.18\n",
        "  print(\"\\nValor convertido: US$\", conversao)\n",
        "elif(moeda == \"euro\"):\n",
        "  conversao = real * 0.16\n",
        "  print(\"\\nValor convertido: €\", conversao)\n",
        "elif(moeda == \"libra esterlina\"):\n",
        "  conversao = real * 0.13\n",
        "  print(\"\\nValor convertido: £\", conversao)\n",
        "else:\n",
        "  print(\"\\nMoeda não reconhecida. Tente dolar, euro ou libra esterlina.\")"
      ]
    },
    {
      "cell_type": "code",
      "execution_count": null,
      "metadata": {
        "id": "hEs-RzwaKGtP"
      },
      "outputs": [],
      "source": [
        "#gerador de senhas\n",
        "import random\n",
        "import string\n",
        "\n",
        "tamanho = int(input(\"Quantos caracteres você deseja? \"))\n",
        "\n",
        "caractere = string.ascii_letters + string.digits + string.punctuation\n",
        "\n",
        "senha = random.choices(caractere, k=tamanho)\n",
        "senhafinal = ''.join(senha)\n",
        "\n",
        "print(\"\\nSenha gerada: \", senhafinal)"
      ]
    },
    {
      "cell_type": "markdown",
      "metadata": {
        "id": "19IRYXn0MKKk"
      },
      "source": [
        "======================================================================= 18-06-2025 ⬇️"
      ]
    },
    {
      "cell_type": "markdown",
      "metadata": {
        "id": "uHM25XlD2_c9"
      },
      "source": [
        "Questão 1"
      ]
    },
    {
      "cell_type": "code",
      "execution_count": null,
      "metadata": {
        "id": "XgHuLZVgKv6H"
      },
      "outputs": [],
      "source": [
        "nome = input(\"Digite seu nome: \")\n",
        "print(nome)"
      ]
    },
    {
      "cell_type": "markdown",
      "metadata": {
        "id": "5y5vpjDp6eb_"
      },
      "source": [
        "Questão 2"
      ]
    },
    {
      "cell_type": "code",
      "execution_count": null,
      "metadata": {
        "id": "nQ5gThb-6-9e"
      },
      "outputs": [],
      "source": [
        "n1 = int(input(\"Digite o primeiro número: \"))\n",
        "n2 = int(input(\"Digite o segundo número: \"))\n",
        "soma = n1 + n2\n",
        "\n",
        "print(\"\\nA soma é: \" , soma)"
      ]
    },
    {
      "cell_type": "markdown",
      "metadata": {
        "id": "-e3ICgeE85ca"
      },
      "source": [
        "Questão 3"
      ]
    },
    {
      "cell_type": "code",
      "execution_count": null,
      "metadata": {
        "id": "TjGULZKv87hy"
      },
      "outputs": [],
      "source": [
        "numero = float(input(\"Informe o número: \"))\n",
        "dobro_numero = numero * 2\n",
        "\n",
        "print(\"\\nO dobro é\" , dobro_numero)"
      ]
    },
    {
      "cell_type": "markdown",
      "metadata": {
        "id": "W6Lk_tgW-RCS"
      },
      "source": [
        "Questão 4"
      ]
    },
    {
      "cell_type": "code",
      "execution_count": null,
      "metadata": {
        "id": "gCrNAap5-S6f"
      },
      "outputs": [],
      "source": [
        "numero = int(input(\"Digite o número inteiro: \"))\n",
        "antecessor = numero - 1\n",
        "sucessor = numero + 1\n",
        "\n",
        "print(\"Antecessor:\" , antecessor , \"\\nSucessor:\" , sucessor)"
      ]
    },
    {
      "cell_type": "markdown",
      "metadata": {
        "id": "AMXW6_kQ_fXA"
      },
      "source": [
        "Questão 5"
      ]
    },
    {
      "cell_type": "code",
      "execution_count": null,
      "metadata": {
        "id": "3f-pj-ml_hEI"
      },
      "outputs": [],
      "source": [
        "metro = float(input(\"Informe a quantidade de metros: \"))\n",
        "centimetros = metro * 100\n",
        "\n",
        "print(metro , \"são\" , centimetros , \"centimetros\")"
      ]
    },
    {
      "cell_type": "markdown",
      "metadata": {
        "id": "KVbeG6fDAuOl"
      },
      "source": [
        "Questão 6"
      ]
    },
    {
      "cell_type": "code",
      "execution_count": null,
      "metadata": {
        "id": "9HeNEJMpAxEL"
      },
      "outputs": [],
      "source": [
        "idade = input(\"Qual a sua idade? \")\n",
        "print(\"Sua idade:\" , idade)"
      ]
    },
    {
      "cell_type": "markdown",
      "metadata": {
        "id": "LHAJk9ppBhXJ"
      },
      "source": [
        "Questão 7"
      ]
    },
    {
      "cell_type": "code",
      "execution_count": null,
      "metadata": {
        "id": "2YZDcR3TBi4R"
      },
      "outputs": [],
      "source": [
        "n1 = float(input(\"Digite sua primeira nota: \"))\n",
        "n2 = float(input(\"Digite sua segunda nota: \"))\n",
        "\n",
        "media = (n1 + n2) / 2\n",
        "print(\"Sua média é:\" , media)"
      ]
    },
    {
      "cell_type": "markdown",
      "metadata": {
        "id": "WyO6zLXpCD9Z"
      },
      "source": [
        "Questão 8"
      ]
    },
    {
      "cell_type": "code",
      "execution_count": null,
      "metadata": {
        "id": "oEsaTvzFCFs4"
      },
      "outputs": [],
      "source": [
        "n1 = float(input(\"informe o primeiro número: \"))\n",
        "n2 = float(input(\"informe o segundo número: \"))\n",
        "n3 = float(input(\"informe o terceiro número: \"))\n",
        "\n",
        "if n1 >= n2 and n1 >= n3:\n",
        "  print(n1 , \"é o maior\")\n",
        "elif n2 >= n1 and n2 >= n3:\n",
        "  print(n2 , \"é o maior\")\n",
        "else:\n",
        "  print(n3 , \"é o maior\")"
      ]
    },
    {
      "cell_type": "markdown",
      "metadata": {
        "id": "GLsmmHGCFbVq"
      },
      "source": [
        "Questão 9"
      ]
    },
    {
      "cell_type": "code",
      "execution_count": null,
      "metadata": {
        "id": "-TyiqXDUFd7s"
      },
      "outputs": [],
      "source": [
        "numero = int(input(\"Digite o número: \"))\n",
        "pares = 0\n",
        "for i in range(1, numero + 1):\n",
        "    if i % 2 == 0:\n",
        "        pares += 1\n",
        "print(\"Quantidade de números pares:\", pares)"
      ]
    },
    {
      "cell_type": "markdown",
      "metadata": {
        "id": "js2NmyzvIdqE"
      },
      "source": [
        "Questão 10\n"
      ]
    },
    {
      "cell_type": "code",
      "execution_count": null,
      "metadata": {
        "id": "k34w8VGSIgP1"
      },
      "outputs": [],
      "source": [
        "numero = int(input(\"Informe o número: \"))\n",
        "fatorial = 1\n",
        "\n",
        "for i in range(1, numero + 1):\n",
        "    fatorial *= i\n",
        "print(\"fatorial:\" , fatorial)"
      ]
    },
    {
      "cell_type": "markdown",
      "metadata": {
        "id": "xU1Dtq_lVOtR"
      },
      "source": [
        "================================================================================================================="
      ]
    },
    {
      "cell_type": "code",
      "execution_count": null,
      "metadata": {
        "id": "lbc8tioqcIXz"
      },
      "outputs": [],
      "source": [
        "#Questão 1\n",
        "for i in range (1, 10 + 1):\n",
        " print(i)"
      ]
    },
    {
      "cell_type": "code",
      "execution_count": null,
      "metadata": {
        "id": "c0_qk2CScIO7"
      },
      "outputs": [],
      "source": [
        "#Questão 2\n",
        "for i in range (0, 20 + 2, 2):\n",
        " print(i)"
      ]
    },
    {
      "cell_type": "code",
      "execution_count": null,
      "metadata": {
        "id": "W3oqDrkacIBs"
      },
      "outputs": [],
      "source": [
        "#Questão 3\n",
        "for i in range (5, 50 + 5, 5):\n",
        "  print(i)"
      ]
    },
    {
      "cell_type": "code",
      "execution_count": null,
      "metadata": {
        "id": "QM-JBDbrUhtA"
      },
      "outputs": [],
      "source": [
        "#Questão 4\n",
        "soma = 0\n",
        "for i in range (1, 100 + 1):\n",
        "  soma += i\n",
        "print(soma)"
      ]
    },
    {
      "cell_type": "code",
      "execution_count": null,
      "metadata": {
        "id": "ohr1bE8LaPnH"
      },
      "outputs": [],
      "source": [
        "#Questão 5\n",
        "pares = 0\n",
        "for i in range (1, 50 + 1):\n",
        "  if i % 2 == 0:\n",
        "    pares += 1\n",
        "print(pares)"
      ]
    },
    {
      "cell_type": "code",
      "execution_count": null,
      "metadata": {
        "id": "QLzQOByAbIg9"
      },
      "outputs": [],
      "source": [
        "#Questão 6\n",
        "n1 = int(input(\"Informe o número: \"))\n",
        "n2 = int(input(\"Informe o número: \"))\n",
        "n3 = int(input(\"Informe o número: \"))\n",
        "n4 = int(input(\"Informe o número: \"))\n",
        "n5 = int(input(\"Informe o número: \"))\n",
        "maior = max(n1, n2, n3, n4, n5)\n",
        "print(maior , \"é o maior\")"
      ]
    },
    {
      "cell_type": "code",
      "execution_count": null,
      "metadata": {
        "id": "kokPu5iDc3U7"
      },
      "outputs": [],
      "source": [
        "#Questão 7\n",
        "numeros = [1, 2, 3, 4, 5]\n",
        "for n in reversed (numeros):\n",
        "  print(n)"
      ]
    },
    {
      "cell_type": "code",
      "execution_count": null,
      "metadata": {
        "id": "Q5oiuDeAhYXa"
      },
      "outputs": [],
      "source": [
        "#Questão 8\n",
        "palavra = input(\"Digite uma palavra: \").lower()\n",
        "if palavra == palavra[::-1]:\n",
        "  print(palavra , \"é um palíndromo\")\n",
        "else:\n",
        "  print(palavra , \"não é um palíndromo\")"
      ]
    },
    {
      "cell_type": "code",
      "execution_count": null,
      "metadata": {
        "colab": {
          "background_save": true
        },
        "id": "iwVGXyzCCcAO"
      },
      "outputs": [],
      "source": [
        "#Questão 9\n",
        "numpri = int(input(\"Até que número você deseja saber? \"))\n",
        "for num in range(2, numpri + 1):\n",
        "    primo = True\n",
        "    for i in range(2, num):\n",
        "        if num % i == 0:\n",
        "            primo = False\n",
        "            break\n",
        "    if primo:\n",
        "        print(num)"
      ]
    },
    {
      "cell_type": "code",
      "execution_count": null,
      "metadata": {
        "id": "dyiht4n-G-F8"
      },
      "outputs": [],
      "source": [
        "#Questão 10\n",
        "altura = int(input(\"Informe a altura: \"))\n",
        "if altura == 1:\n",
        "  print(\"Não foi possivel criar o triângulo =(\")\n",
        "else:\n",
        "  for i in range(altura):\n",
        "    espacos = \" \" * (altura - i - 1)\n",
        "    estrelas = \"*\" * (2 * i + 1)\n",
        "    print(espacos + estrelas)\n",
        "    print(\"Triângulo criado =)\")"
      ]
    },
    {
      "cell_type": "code",
      "execution_count": null,
      "metadata": {
        "id": "OKV2VTTWKdYT"
      },
      "outputs": [],
      "source": [
        "#Questão 11\n",
        "n = int(input(\"Informe o número: \"))\n",
        "f = 1\n",
        "for i in range(1, n + 1):\n",
        "    f *= i\n",
        "print(\"fatorial:\" , f)"
      ]
    },
    {
      "cell_type": "code",
      "execution_count": null,
      "metadata": {
        "colab": {
          "background_save": true
        },
        "id": "MNZ46OAgLpwS"
      },
      "outputs": [],
      "source": [
        "#Questão 12\n",
        "n = int(input(\"Informe o número: \"))\n",
        "soma = 0\n",
        "for i in range(1, n):\n",
        "  if n % i == 0:\n",
        "    soma += i\n",
        "if soma == n:\n",
        "  print(n ,\"é um número perfeito!\")\n",
        "else:\n",
        "  print(n ,\"não é um número perfeito!\")"
      ]
    },
    {
      "cell_type": "markdown",
      "metadata": {
        "id": "-ezZR6prL3Px"
      },
      "source": [
        " 2ªLista de Exercícios em Python ⬇️ ================================================================================"
      ]
    },
    {
      "cell_type": "code",
      "source": [
        "#Questão 1\n",
        "print(\"Olá mundo!\")"
      ],
      "metadata": {
        "id": "psxLg-2E4WNH"
      },
      "execution_count": null,
      "outputs": []
    },
    {
      "cell_type": "code",
      "source": [
        "#Questão 2\n",
        "num = float(input(\"Digite o número: \").replace(',' , '.'))\n",
        "dobro = num * 2\n",
        "print(f\"Seu dobro: {dobro}\")"
      ],
      "metadata": {
        "id": "rbHvUo3B457f"
      },
      "execution_count": null,
      "outputs": []
    },
    {
      "cell_type": "code",
      "source": [
        "#Questão 3\n",
        "num1 = float(input(\"Digite o primeiro número: \").replace(',' , '.'))\n",
        "num2 = float(input(\"Digite o segundo número: \").replace(',' , '.'))\n",
        "soma = num1 + num2\n",
        "print(f\"Soma: {soma}\")"
      ],
      "metadata": {
        "id": "TyDvNOl7M8nR"
      },
      "execution_count": null,
      "outputs": []
    },
    {
      "cell_type": "code",
      "source": [
        "#Questão 4\n",
        "nome = input(\"Escreva seu nome: \")\n",
        "print(f\"Prazer em conhecer, {nome}!\")"
      ],
      "metadata": {
        "id": "NNjrZBD_OGw3"
      },
      "execution_count": null,
      "outputs": []
    },
    {
      "cell_type": "code",
      "source": [
        "#Questão 5\n",
        "num = int(input(\"Digite o número: \"))\n",
        "if num % 2 == 0:\n",
        "  print(f\"{num} é par!\")\n",
        "else:\n",
        "  print(f\"{num} é ímpar!\")"
      ],
      "metadata": {
        "id": "9jVhAMf2Od7H"
      },
      "execution_count": null,
      "outputs": []
    },
    {
      "cell_type": "code",
      "source": [
        "#Questão 6\n",
        "num = int(input(\"Forneça o número: \"))\n",
        "lista = list(range(num, -1, -1))\n",
        "print(*lista)"
      ],
      "metadata": {
        "id": "WrxSFDFJQ0LN"
      },
      "execution_count": null,
      "outputs": []
    },
    {
      "cell_type": "code",
      "source": [
        "#Questão 7\n",
        "num = int(input(\"Informe o número: \"))\n",
        "if num < 2:\n",
        "  print(f\"{num} não é primo!\")\n",
        "else:\n",
        "  for i in range(2, num):\n",
        "    if num % i == 0:\n",
        "      print(f\"{num} não é primo!\")\n",
        "      break\n",
        "  else:\n",
        "    print(f\"{num} é primo!\")"
      ],
      "metadata": {
        "id": "8ab5755ATGcR"
      },
      "execution_count": null,
      "outputs": []
    },
    {
      "cell_type": "code",
      "source": [
        "#Questão 8\n",
        "num = int(input(\"Introduza o número: \"))\n",
        "for i in range (1, 10 + 1):\n",
        "  print(f\"{num} x {i} = {num * i}\")"
      ],
      "metadata": {
        "id": "xXf8ugNFhvbj"
      },
      "execution_count": null,
      "outputs": []
    },
    {
      "cell_type": "code",
      "source": [
        "#Questão 9\n",
        "import random\n",
        "num = random.randint(0, 100)\n",
        "while True:\n",
        "  perg = int(input(\"\\nQual número você chuta?\\n\"))\n",
        "  if perg > num:\n",
        "    print(\"\\n\\033[31mMenor\\033[0m\")\n",
        "    print(\"================\")\n",
        "  elif perg < num:\n",
        "    print(\"\\n\\033[31mMaior\\033[0m\")\n",
        "    print(\"================\")\n",
        "  else:\n",
        "    print(\"\\n\\033[32mParabéns! Você acertou!\\033[0m\")\n",
        "    break"
      ],
      "metadata": {
        "id": "TP0iqmJnlEH_"
      },
      "execution_count": null,
      "outputs": []
    },
    {
      "cell_type": "markdown",
      "source": [
        "Portugol em Python ================================================="
      ],
      "metadata": {
        "id": "UwBjreBtFUaB"
      }
    },
    {
      "cell_type": "code",
      "source": [
        "dia = int(input(\"Digite o número (1 a 7): \"))\n",
        "if dia == 1:\n",
        "  print(f\"{dia} = Domingo\")\n",
        "elif dia == 2:\n",
        "  print(f\"{dia} = Segunda-feira\")\n",
        "elif dia == 3:\n",
        "  print(f\"{dia} = Terça-feira\")\n",
        "elif dia == 4:\n",
        "  print(f\"{dia} = Quarta-feira\")\n",
        "elif dia == 5:\n",
        "  print(f\"{dia} = Quinta-feira\")\n",
        "elif dia == 6:\n",
        "  print(f\"{dia} = Sexta-feira\")\n",
        "elif dia == 7:\n",
        "  print(f\"{dia} = Sábado\")\n",
        "else:\n",
        "  print(\"Dia inexistente\")"
      ],
      "metadata": {
        "id": "9AF6rfZ-FT97"
      },
      "execution_count": null,
      "outputs": []
    },
    {
      "cell_type": "code",
      "source": [
        "print(\"Temos os seguintes sucos: Laranja(L), Acerola(A), Uva(U), Morango(M)\")\n",
        "suco = input(\"Qual suco desejas? (Apenas a sua inicial!)\\n\")\n",
        "if suco == \"l\" or suco == \"L\":\n",
        "  print(\"\\nLaranja possui a vitamina C\")\n",
        "elif suco == \"a\" or suco == \"A\":\n",
        "  print(\"\\nAcerola possui a vitamina C\")\n",
        "elif suco == \"u\" or suco == \"U\":\n",
        "  print(\"\\nUva possui a vitamina E\")\n",
        "elif suco == \"m\" or suco == \"M\":\n",
        "  print(\"\\nMorango possui a vitamina A\")\n",
        "else:\n",
        "  print(\"Suco inexistente!\")"
      ],
      "metadata": {
        "id": "n6P2xyN4HaXn"
      },
      "execution_count": null,
      "outputs": []
    },
    {
      "cell_type": "markdown",
      "source": [
        " 3ª Lista de Exercícios em Python ⬇️ ================================================================================"
      ],
      "metadata": {
        "id": "K-GoDbYU4A-h"
      }
    },
    {
      "cell_type": "code",
      "source": [
        "#Número negativo ou positivo\n",
        "\n",
        "num = float(input(\"Digite o número: \"))\n",
        "\n",
        "if num < 0:\n",
        "  print (f\"{num} é negativo!\")\n",
        "elif num > 0:\n",
        "  print (f\"{num} é positivo!\")\n",
        "else:\n",
        "  print (f\"Zero\")"
      ],
      "metadata": {
        "id": "l0b4fJuZJFAA"
      },
      "execution_count": null,
      "outputs": []
    },
    {
      "cell_type": "code",
      "source": [
        "#Lista de nomes\n",
        "lista_nomes = [\"Maria\" , \"Tati\" , \"Matheus\" , \"Francisca\" , \"Lorena\"]\n",
        "\n",
        "nome = input(\"Informe um nome: \")\n",
        "\n",
        "if nome in [n.lower() for n in lista_nomes]: #[n.lower() for n in lista_nomes] <- deixa todos os caracteres minúsculos\n",
        "  print(f\"{nome} está na lista!\")\n",
        "else:\n",
        "  print(f\"{nome} não está na lista!\")"
      ],
      "metadata": {
        "id": "fK4HehJj9XgA"
      },
      "execution_count": null,
      "outputs": []
    },
    {
      "cell_type": "code",
      "source": [
        "#Leve em conta que a média é 7\n",
        "def resultado(media):\n",
        "  if media < 5:\n",
        "    print(f\"Você foi reprovado!\")\n",
        "  elif media >= 7:\n",
        "    print(f\"Você está aprovado!\")\n",
        "  else:\n",
        "    print(f\"Você esta de recuperação!\")\n",
        "notas = (5, 3 , 9)\n",
        "media = sum(notas) / len(notas)\n",
        "resultado(media)"
      ],
      "metadata": {
        "id": "-nNXtTRMAszi"
      },
      "execution_count": null,
      "outputs": []
    },
    {
      "cell_type": "code",
      "source": [
        "#Leve em conta que a média é 7\n",
        "tri_bi = input(\"Seu ano é dividido em trimestre ou bimestre?\\n\").lower()\n",
        "\n",
        "#Trimestre\n",
        "if tri_bi == \"trimestre\":\n",
        "  def resultado(media):\n",
        "    if media < 5:\n",
        "      print(f\"\\nVocê foi reprovado!\")\n",
        "    elif media >= 7:\n",
        "      print(f\"\\nVocê está aprovado!\")\n",
        "    else:\n",
        "      print(f\"\\nVocê esta de recuperação!\")\n",
        "\n",
        "  n1 = float(input(\"\\nInforme sua primeira nota: \"))\n",
        "  n2 = float(input(\"Informe sua segunda nota: \"))\n",
        "  n3 = float(input(\"Informe sua terceira nota: \"))\n",
        "\n",
        "  notas = (n1 , n2 , n3)\n",
        "  media = sum(notas) / len(notas)\n",
        "  resultado(media)\n",
        "\n",
        "#Bimestre\n",
        "elif tri_bi == \"bimestre\":\n",
        "  def resultado(media):\n",
        "    if media < 5:\n",
        "      print(f\"\\nVocê foi reprovado!\")\n",
        "    elif media >= 7:\n",
        "      print(f\"\\nVocê está aprovado!\")\n",
        "    else:\n",
        "      print(f\"\\nVocê está de recuperção!\")\n",
        "\n",
        "  n1 = float(input(\"\\nInforme sua primeira nota: \"))\n",
        "  n2 = float(input(\"Informe sua segunda nota: \"))\n",
        "  n3 = float(input(\"Informe sua terceira nota: \"))\n",
        "  n4 = float(input(\"Informe sua quarta nota: \"))\n",
        "\n",
        "  notas = (n1 , n2 , n3 , n4)\n",
        "  media = sum(notas) / len(notas)\n",
        "  resultado(media)\n",
        "\n",
        "else:\n",
        "  print(\"\\nINDISPONÍVEL\")"
      ],
      "metadata": {
        "id": "hyIWAtnXB4oZ",
        "colab": {
          "base_uri": "https://localhost:8080/"
        },
        "outputId": "3d886152-31b5-41c5-ca39-08e10994a1ce"
      },
      "execution_count": null,
      "outputs": [
        {
          "output_type": "stream",
          "name": "stdout",
          "text": [
            "Seu ano é dividido em trimestre ou bimestre?\n",
            "trimestre\n",
            "\n",
            "Informe sua primeira nota: 9\n",
            "Informe sua segunda nota: 6\n",
            "Informe sua terceira nota: 3\n",
            "\n",
            "Você está aprovado!\n"
          ]
        }
      ]
    }
  ],
  "metadata": {
    "colab": {
      "provenance": [],
      "include_colab_link": true
    },
    "kernelspec": {
      "display_name": "Python 3",
      "name": "python3"
    },
    "language_info": {
      "name": "python"
    }
  },
  "nbformat": 4,
  "nbformat_minor": 0
}